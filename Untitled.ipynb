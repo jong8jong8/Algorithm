{
 "cells": [
  {
   "cell_type": "code",
   "execution_count": 3,
   "id": "32e97f62-a940-4305-8264-29a7480acdb0",
   "metadata": {},
   "outputs": [
    {
     "name": "stdout",
     "output_type": "stream",
     "text": [
      "2\n"
     ]
    }
   ],
   "source": [
    "def simple_search(arr, item):\n",
    "    for i in range(0, len(arr)):\n",
    "        if arr[i] == item:\n",
    "            return i\n",
    "    return None\n",
    "\n",
    "my_arr = [1, 3, 5, 7, 9]\n",
    "print(simple_search(my_arr, 5))"
   ]
  },
  {
   "cell_type": "code",
   "execution_count": 10,
   "id": "c867c575-3b83-4a3d-acfc-0f5455fefbc0",
   "metadata": {},
   "outputs": [
    {
     "name": "stdout",
     "output_type": "stream",
     "text": [
      "The run-time is 505900 seconds\n"
     ]
    }
   ],
   "source": [
    "import time\n",
    "\n",
    "start_time = time.time()  # time.time_ns() for nano-second (10^-9 second)\n",
    "\n",
    "# some code block you want to measure\n",
    "# some code block you want to measure\n",
    "# some code block you want to measure\n",
    "# some code block you want to measure\n",
    "\n",
    "end_time = time.time()\n",
    "\n",
    "print(f\"The run-time is {end_time - start_time} seconds\")"
   ]
  },
  {
   "cell_type": "code",
   "execution_count": null,
   "id": "8839a76e-3106-4c94-bdf7-ba23a1b558fe",
   "metadata": {},
   "outputs": [],
   "source": []
  }
 ],
 "metadata": {
  "kernelspec": {
   "display_name": "Python 3 (ipykernel)",
   "language": "python",
   "name": "python3"
  },
  "language_info": {
   "codemirror_mode": {
    "name": "ipython",
    "version": 3
   },
   "file_extension": ".py",
   "mimetype": "text/x-python",
   "name": "python",
   "nbconvert_exporter": "python",
   "pygments_lexer": "ipython3",
   "version": "3.8.12"
  },
  "widgets": {
   "application/vnd.jupyter.widget-state+json": {
    "state": {},
    "version_major": 2,
    "version_minor": 0
   }
  }
 },
 "nbformat": 4,
 "nbformat_minor": 5
}
