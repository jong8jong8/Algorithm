{
 "cells": [
  {
   "cell_type": "code",
   "execution_count": 14,
   "id": "1fb47f06-a52a-49bd-ac31-4452a87ff150",
   "metadata": {},
   "outputs": [
    {
     "name": "stdout",
     "output_type": "stream",
     "text": [
      "10\n",
      "20\n",
      "30\n",
      "40\n",
      "50\n",
      "\n",
      "\n",
      "10\n",
      "30\n",
      "\n",
      "\n",
      "10\n",
      "60\n",
      "20\n",
      "30\n",
      "40\n",
      "50\n",
      "\n",
      "\n",
      "10\n",
      "60\n",
      "20\n",
      "30\n",
      "50\n",
      "\n",
      "\n",
      "2\n",
      "\n",
      "\n",
      "10\n",
      "60\n",
      "80\n",
      "30\n",
      "50\n"
     ]
    }
   ],
   "source": [
    "import array\n",
    "\n",
    "array1 = array.array('i', [10, 20, 30, 40, 50])  # integer (2-byte) array\n",
    "\n",
    "# Traverse − print all the array elements one by one\n",
    "for x in array1:\n",
    "   print(x)\n",
    "\n",
    "print('\\n')\n",
    "\n",
    "# Accessing Array Element\n",
    "print (array1[0])\n",
    "print (array1[2])\n",
    "\n",
    "print('\\n')\n",
    "\n",
    "# Insertion − add an element at the given index\n",
    "array1.insert(1, 60)\n",
    "\n",
    "for x in array1:\n",
    "   print(x)\n",
    "\n",
    "print('\\n')\n",
    "\n",
    "# Deletion − delete an element at the given index\n",
    "array1.remove(40)\n",
    "\n",
    "for x in array1:\n",
    "   print(x)\n",
    "\n",
    "print('\\n')\n",
    "\n",
    "# Search − search an element using the given index or by the value\n",
    "print (array1.index(20))\n",
    "\n",
    "print('\\n')\n",
    "\n",
    "# Update − update an element at the given index\n",
    "array1[2] = 80\n",
    "\n",
    "for x in array1:\n",
    "   print(x)"
   ]
  },
  {
   "cell_type": "code",
   "execution_count": null,
   "id": "a80a701b-3267-429c-a00a-1ac1b68ff8b4",
   "metadata": {},
   "outputs": [],
   "source": []
  }
 ],
 "metadata": {
  "kernelspec": {
   "display_name": "Python 3 (ipykernel)",
   "language": "python",
   "name": "python3"
  },
  "language_info": {
   "codemirror_mode": {
    "name": "ipython",
    "version": 3
   },
   "file_extension": ".py",
   "mimetype": "text/x-python",
   "name": "python",
   "nbconvert_exporter": "python",
   "pygments_lexer": "ipython3",
   "version": "3.8.12"
  },
  "widgets": {
   "application/vnd.jupyter.widget-state+json": {
    "state": {},
    "version_major": 2,
    "version_minor": 0
   }
  }
 },
 "nbformat": 4,
 "nbformat_minor": 5
}
