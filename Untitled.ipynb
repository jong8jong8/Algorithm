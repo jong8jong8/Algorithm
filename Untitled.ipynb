{
 "cells": [
  {
   "cell_type": "code",
   "execution_count": 15,
   "id": "8f8691fd-eea2-4ede-8a31-1f9b775e6fe2",
   "metadata": {},
   "outputs": [
    {
     "name": "stdout",
     "output_type": "stream",
     "text": [
      "Thursday\n",
      "Wednesday\n",
      "Tuesday\n",
      "Monday\n",
      "No element in the Stack\n"
     ]
    }
   ],
   "source": [
    "class Stack:\n",
    "    def __init__(self):\n",
    "        self.stack = []  # stack is implemented using Python List\n",
    "        \n",
    "    def push(self, data):\n",
    "        if data not in self.stack:\n",
    "            self.stack.append(data)\n",
    "            return True\n",
    "        else:\n",
    "            return False\n",
    "    \n",
    "    def pop(self):\n",
    "        if len(self.stack) <= 0:\n",
    "            return (\"No element in the Stack\")\n",
    "        else:\n",
    "            return self.stack.pop()  # Python List built-in method 'pop'\n",
    "    \n",
    "    def peek(self):\n",
    "        return self.stack[-1]  # read the top (or the last) item\n",
    "\n",
    "\n",
    "# Stack test\n",
    "week = Stack()\n",
    "week.push(\"Monday\")\n",
    "week.push(\"Tuesday\")\n",
    "week.push(\"Wednesday\")\n",
    "week.push(\"Thursday\")\n",
    "print(week.pop())\n",
    "print(week.pop())\n",
    "print(week.pop())\n",
    "print(week.pop())\n",
    "print(week.pop())"
   ]
  },
  {
   "cell_type": "code",
   "execution_count": null,
   "id": "ab4f89c3-2487-45bb-aef8-e9398051b3fb",
   "metadata": {},
   "outputs": [],
   "source": []
  }
 ],
 "metadata": {
  "kernelspec": {
   "display_name": "Python 3 (ipykernel)",
   "language": "python",
   "name": "python3"
  },
  "language_info": {
   "codemirror_mode": {
    "name": "ipython",
    "version": 3
   },
   "file_extension": ".py",
   "mimetype": "text/x-python",
   "name": "python",
   "nbconvert_exporter": "python",
   "pygments_lexer": "ipython3",
   "version": "3.8.12"
  },
  "widgets": {
   "application/vnd.jupyter.widget-state+json": {
    "state": {},
    "version_major": 2,
    "version_minor": 0
   }
  }
 },
 "nbformat": 4,
 "nbformat_minor": 5
}
