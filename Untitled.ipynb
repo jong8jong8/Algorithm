{
 "cells": [
  {
   "cell_type": "code",
   "execution_count": 15,
   "id": "28f88880-597e-4c77-b99b-8ea088987cc3",
   "metadata": {},
   "outputs": [
    {
     "name": "stdout",
     "output_type": "stream",
     "text": [
      "[1, 2, 3, 4, 5]\n"
     ]
    }
   ],
   "source": [
    "def find_smallest_index(array):\n",
    "    smallest_value = array[0]\n",
    "    smallest_index = 0\n",
    "    for i in range(1, len(array)):\n",
    "        if array[i] < smallest_value:\n",
    "            smallest_value = array[i]\n",
    "            smallest_index = i\n",
    "    return smallest_index\n",
    "\n",
    "def selection_sort(array):\n",
    "    sorted_array = []\n",
    "    for i in range(0, len(array)):\n",
    "        smallest_index = find_smallest_index(array)\n",
    "        sorted_array.append(array.pop(smallest_index))\n",
    "    return sorted_array\n",
    "\n",
    "# selection sort test\n",
    "my_array = [5, 1, 3, 2, 4]  # before sorting\n",
    "my_array = selection_sort(my_array)  # after sorting\n",
    "print(my_array)"
   ]
  },
  {
   "cell_type": "code",
   "execution_count": 12,
   "id": "ec222ec0-0155-46ab-aa53-e37c78c10e9f",
   "metadata": {},
   "outputs": [
    {
     "name": "stdout",
     "output_type": "stream",
     "text": [
      "[1, 2, 3, 4, 5]\n"
     ]
    }
   ],
   "source": [
    "def selection_sort(array):\n",
    "    for i in range(len(array)):\n",
    "        smallest_index = i\n",
    "        for j in range(i + 1, len(array)):\n",
    "            if array[smallest_index] > array[j]:\n",
    "                smallest_index = j\n",
    "        # Swap the minimum value with the compared value\n",
    "        array[i], array[smallest_index] = array[smallest_index], array[i]\n",
    "\n",
    "# selection sort test\n",
    "my_array = [5, 1, 3, 2, 4]\n",
    "selection_sort(my_array)\n",
    "print(my_array)"
   ]
  },
  {
   "cell_type": "code",
   "execution_count": null,
   "id": "8f8691fd-eea2-4ede-8a31-1f9b775e6fe2",
   "metadata": {},
   "outputs": [],
   "source": []
  }
 ],
 "metadata": {
  "kernelspec": {
   "display_name": "Python 3 (ipykernel)",
   "language": "python",
   "name": "python3"
  },
  "language_info": {
   "codemirror_mode": {
    "name": "ipython",
    "version": 3
   },
   "file_extension": ".py",
   "mimetype": "text/x-python",
   "name": "python",
   "nbconvert_exporter": "python",
   "pygments_lexer": "ipython3",
   "version": "3.8.12"
  },
  "widgets": {
   "application/vnd.jupyter.widget-state+json": {
    "state": {},
    "version_major": 2,
    "version_minor": 0
   }
  }
 },
 "nbformat": 4,
 "nbformat_minor": 5
}
