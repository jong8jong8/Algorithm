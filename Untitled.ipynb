{
 "cells": [
  {
   "cell_type": "code",
   "execution_count": 26,
   "id": "a80a701b-3267-429c-a00a-1ac1b68ff8b4",
   "metadata": {},
   "outputs": [
    {
     "name": "stdout",
     "output_type": "stream",
     "text": [
      "BRUNCH\n",
      "BOCCE\n",
      "DRINK TEA\n",
      "BUY TEA\n"
     ]
    }
   ],
   "source": [
    "class Node:\n",
    "    def __init__(self, data=None):\n",
    "        self.data = data\n",
    "        self.next = None\n",
    "\n",
    "class LinkedList:\n",
    "    def __init__(self):\n",
    "        self.head = None\n",
    "        \n",
    "    def list_print(self):\n",
    "        current_node = self.head\n",
    "        while current_node is not None:\n",
    "            print(current_node.data)\n",
    "            current_node = current_node.next\n",
    "    \n",
    "    def insert_at_beginning(self, data):\n",
    "        new_node = Node(data)\n",
    "        new_node.next = self.head\n",
    "        self.head = new_node\n",
    "    \n",
    "    def insert_at_end(self, data):\n",
    "        new_node = Node(data)\n",
    "        if self.head is None:\n",
    "            self.head = new_node\n",
    "            return\n",
    "        last_node = self.head\n",
    "        while last_node.next is not None:\n",
    "            last_node = last_node.next\n",
    "        last_node.next = new_node\n",
    "    \n",
    "    def insert_in_between(self, middle_node, data):\n",
    "        if middle_node is None:\n",
    "            print(\"There is no such a middle node!\")\n",
    "            return\n",
    "        new_node = Node(data)\n",
    "        new_node.next = middle_node.next\n",
    "        middle_node.next = new_node\n",
    "\n",
    "# Todo list test\n",
    "todo_node0 = Node(\"BRUNCH\")\n",
    "todo_node1 = Node(\"BOCCE\")\n",
    "todo_node2 = Node(\"DRINK TEA\")\n",
    "\n",
    "todo_list = LinkedList()\n",
    "todo_list.head = todo_node0\n",
    "todo_node0.next = todo_node1\n",
    "todo_node1.next = todo_node2\n",
    "\n",
    "todo_list.insert_in_between(\"BUY TEA\")\n",
    "\n",
    "todo_list.list_print()"
   ]
  },
  {
   "cell_type": "code",
   "execution_count": null,
   "id": "28f88880-597e-4c77-b99b-8ea088987cc3",
   "metadata": {},
   "outputs": [],
   "source": []
  }
 ],
 "metadata": {
  "kernelspec": {
   "display_name": "Python 3 (ipykernel)",
   "language": "python",
   "name": "python3"
  },
  "language_info": {
   "codemirror_mode": {
    "name": "ipython",
    "version": 3
   },
   "file_extension": ".py",
   "mimetype": "text/x-python",
   "name": "python",
   "nbconvert_exporter": "python",
   "pygments_lexer": "ipython3",
   "version": "3.8.12"
  },
  "widgets": {
   "application/vnd.jupyter.widget-state+json": {
    "state": {},
    "version_major": 2,
    "version_minor": 0
   }
  }
 },
 "nbformat": 4,
 "nbformat_minor": 5
}
